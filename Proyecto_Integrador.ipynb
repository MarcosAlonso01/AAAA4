{
  "nbformat": 4,
  "nbformat_minor": 0,
  "metadata": {
    "colab": {
      "provenance": [],
      "collapsed_sections": []
    },
    "kernelspec": {
      "name": "python3",
      "display_name": "Python 3"
    },
    "language_info": {
      "name": "python"
    }
  },
  "cells": [
    {
      "cell_type": "code",
      "source": [
        "!pip install db-sqlite3 lxml selenium"
      ],
      "metadata": {
        "id": "UlzsxvvlxeRn"
      },
      "execution_count": null,
      "outputs": []
    },
    {
      "cell_type": "code",
      "source": [
        "!apt-get update \n",
        "!apt install chromium-chromedriver\n",
        "!cp /usr/lib/chromium-browser/chromedriver /usr/bin\n"
      ],
      "metadata": {
        "id": "cFlDAh4HjefG"
      },
      "execution_count": null,
      "outputs": []
    },
    {
      "cell_type": "code",
      "source": [
        "import sqlite3\n",
        "from bs4 import BeautifulSoup\n",
        "from selenium import webdriver\n",
        "from selenium.webdriver.support.ui import WebDriverWait\n",
        "from selenium.webdriver.common.by import By\n",
        "from selenium.webdriver.support import expected_conditions as EC\n",
        "from selenium.webdriver.common.action_chains import ActionChains\n",
        "import time\n",
        "import pandas as pd\n",
        "import matplotlib.pyplot as plt"
      ],
      "metadata": {
        "id": "aS0OH_Byxpro"
      },
      "execution_count": null,
      "outputs": []
    },
    {
      "cell_type": "markdown",
      "source": [
        "Se crea la  BBDD"
      ],
      "metadata": {
        "id": "lrrl4Nzx_dcJ"
      }
    },
    {
      "cell_type": "code",
      "source": [
        "conn = sqlite3.connect('mydatabase.db')\n",
        "print(\"Opened database successfully\")\n",
        "cur = conn.cursor()"
      ],
      "metadata": {
        "id": "wsuUN13O_U6g"
      },
      "execution_count": null,
      "outputs": []
    },
    {
      "cell_type": "markdown",
      "source": [
        "Se crean las tablas LUGAR y VUELO"
      ],
      "metadata": {
        "id": "dZcx3IqS_sKr"
      }
    },
    {
      "cell_type": "code",
      "source": [
        "cur.execute(\"CREATE TABLE IF NOT EXISTS place (descripcion  CHAR(50))\")\n",
        "cur.execute(\"CREATE TABLE IF NOT EXISTS flight (origen INTEGER, destino INTEGER, compania CHAR(50), escalaida INTEGER, tiempoida REAL, escalavuelta INTEGER, tiempovuelta INTEGER ,price REAL)\")"
      ],
      "metadata": {
        "id": "HPN3v-Bt_ZAQ"
      },
      "execution_count": null,
      "outputs": []
    },
    {
      "cell_type": "code",
      "source": [
        "cur.execute(\"INSERT INTO place(descripcion) VALUES('CORDOBA')\")\n",
        "cur.execute(\"INSERT INTO place(descripcion) VALUES('MADRID')\")\n",
        "conn.commit()"
      ],
      "metadata": {
        "id": "nA1lRylEm2dg"
      },
      "execution_count": 4,
      "outputs": []
    },
    {
      "cell_type": "markdown",
      "source": [
        "Se conecta al sitio web despegar. Se buscó los vuelos Córdoba - Madrid"
      ],
      "metadata": {
        "id": "643dqBdx-9ZV"
      }
    },
    {
      "cell_type": "code",
      "source": [
        "\n",
        "SCROLL_PAUSE_TIME = 0.5\n",
        "\n",
        "\n",
        "url = 'https://www.despegar.com.ar/shop/flights/results/roundtrip/COR/MAD/2022-12-01/2022-12-15/1/0/0/NA/NA/NA/NA/NA?from=SB&di=1-0'\n",
        "\n",
        "options = webdriver.ChromeOptions()\n",
        "options.add_argument('--headless')\n",
        "options.add_argument('--no-sandbox')\n",
        "options.add_argument('--disable-dev-shm-usage')\n",
        "options.add_argument('--ignore-certificate-errors')\n",
        "options.add_argument('--incognito')\n",
        "\n",
        "\n",
        "driver = webdriver.Chrome('chromedriver',options=options)\n",
        "\n",
        "last_height = driver.execute_script(\"return document.body.scrollHeight\")\n",
        "\n",
        "# open web page\n",
        "driver.get(url)\n",
        "WebDriverWait(driver, 30).until(EC.presence_of_element_located((By.CLASS_NAME, 'COMMON')))\n",
        "while True:\n",
        "    # Scroll down to bottom\n",
        "    driver.execute_script(\"window.scrollTo(0, document.body.scrollHeight);\")\n",
        "\n",
        "    # Wait to load page\n",
        "    time.sleep(SCROLL_PAUSE_TIME)\n",
        "\n",
        "    # Calculate new scroll height and compare with last scroll height\n",
        "    new_height = driver.execute_script(\"return document.body.scrollHeight\")\n",
        "    if new_height == last_height:\n",
        "        break\n",
        "    last_height = new_height\n",
        "#WebDriverWait(driver, 40).until(EC.presence_of_all_elements_located((By.TAG_NAME,'cluster')))\n",
        "\n",
        "html = driver.page_source\n",
        "soup = BeautifulSoup(html, 'html.parser')\n"
      ],
      "metadata": {
        "id": "iNJXhNjizowv"
      },
      "execution_count": 6,
      "outputs": []
    },
    {
      "cell_type": "code",
      "source": [
        "name = soup.find_all('cluster', class_='COMMON')\n",
        "for link in name:\n",
        "  print(link.find('span', class_='name').get_text().lstrip())\n",
        "  print(float(link.find('span', class_='amount price-amount').get_text()))\n",
        "  way = link.find_all('span', class_='sub-cluster');\n",
        "  ida = way[0].find('span', class_='stops-wrapper text').get_text() \n",
        "  vuelta = way[1].find('span', class_='stops-wrapper text').get_text() \n",
        "  print(ida)\n",
        "  print(\"Escala ida: \", ida[1])\n",
        "  print(\"Tiempo ida \", float(ida[11:13]) + (float(ida[16:18]) / 60))\n",
        "  print(vuelta)\n",
        "  print(\"Escala vuelta: \", vuelta[1])\n",
        "  print(\"Tiempo vuelta \",float(vuelta[11:13]) + (float(vuelta[16:18]) / 60))\n",
        "  "
      ],
      "metadata": {
        "id": "iDz3JnSxUaIK"
      },
      "execution_count": null,
      "outputs": []
    },
    {
      "cell_type": "markdown",
      "source": [
        "Se realiza insert a la tabla Vuelos"
      ],
      "metadata": {
        "id": "LqcGhUWJ-1C1"
      }
    },
    {
      "cell_type": "code",
      "source": [
        "name = soup.find_all('cluster', class_='COMMON')\n",
        "for link in name:\n",
        "  compania = link.find('span', class_='name').get_text().lstrip()\n",
        "  precio = link.find('span', class_='amount price-amount').get_text()\n",
        "  way = link.find_all('span', class_='sub-cluster');\n",
        "  ida = way[0].find('span', class_='stops-wrapper text').get_text() \n",
        "  vuelta = way[1].find('span', class_='stops-wrapper text').get_text() \n",
        "  escala_ida = ida[1]\n",
        "  tiempo_ida = str(float(ida[11:13]) + (float(ida[16:18]) / 60))\n",
        "  escala_vuelta = vuelta[1]\n",
        "  tiempo_vuelta = str(float(vuelta[11:13]) + (float(vuelta[16:18]) / 60))\n",
        "\n",
        "  cur.execute(\"INSERT INTO flight VALUES (1, 2, '\"+ compania +\"',\"+ escala_ida +\",\" + tiempo_ida +\",\" + escala_vuelta +\",\"+ tiempo_vuelta + \",\" + precio + \")\")\n",
        "  conn.commit()"
      ],
      "metadata": {
        "id": "udIIpjLOWLry"
      },
      "execution_count": 15,
      "outputs": []
    },
    {
      "cell_type": "code",
      "source": [
        "vuelos = pd.read_sql(\"SELECT * FROM flight\", conn)"
      ],
      "metadata": {
        "id": "pPqizuM93vqO"
      },
      "execution_count": 20,
      "outputs": []
    },
    {
      "cell_type": "code",
      "source": [
        "print(vuelos)"
      ],
      "metadata": {
        "id": "pGYpUv_U7FwY"
      },
      "execution_count": null,
      "outputs": []
    },
    {
      "cell_type": "code",
      "source": [
        "vuelos.tail()"
      ],
      "metadata": {
        "id": "w-KHW91n7ki0"
      },
      "execution_count": null,
      "outputs": []
    },
    {
      "cell_type": "code",
      "source": [
        "vuelos[['price']].describe()"
      ],
      "metadata": {
        "colab": {
          "base_uri": "https://localhost:8080/",
          "height": 300
        },
        "id": "aZCiRgT18Pyk",
        "outputId": "bff20c25-882c-4939-bcdd-4ae0974c690a"
      },
      "execution_count": 28,
      "outputs": [
        {
          "output_type": "execute_result",
          "data": {
            "text/plain": [
              "            price\n",
              "count   29.000000\n",
              "mean   219.738621\n",
              "std     32.336646\n",
              "min    148.785000\n",
              "25%    206.174000\n",
              "50%    224.976000\n",
              "75%    238.547000\n",
              "max    268.958000"
            ],
            "text/html": [
              "\n",
              "  <div id=\"df-67cc7c5f-3044-46cf-ad26-9b1402f24085\">\n",
              "    <div class=\"colab-df-container\">\n",
              "      <div>\n",
              "<style scoped>\n",
              "    .dataframe tbody tr th:only-of-type {\n",
              "        vertical-align: middle;\n",
              "    }\n",
              "\n",
              "    .dataframe tbody tr th {\n",
              "        vertical-align: top;\n",
              "    }\n",
              "\n",
              "    .dataframe thead th {\n",
              "        text-align: right;\n",
              "    }\n",
              "</style>\n",
              "<table border=\"1\" class=\"dataframe\">\n",
              "  <thead>\n",
              "    <tr style=\"text-align: right;\">\n",
              "      <th></th>\n",
              "      <th>price</th>\n",
              "    </tr>\n",
              "  </thead>\n",
              "  <tbody>\n",
              "    <tr>\n",
              "      <th>count</th>\n",
              "      <td>29.000000</td>\n",
              "    </tr>\n",
              "    <tr>\n",
              "      <th>mean</th>\n",
              "      <td>219.738621</td>\n",
              "    </tr>\n",
              "    <tr>\n",
              "      <th>std</th>\n",
              "      <td>32.336646</td>\n",
              "    </tr>\n",
              "    <tr>\n",
              "      <th>min</th>\n",
              "      <td>148.785000</td>\n",
              "    </tr>\n",
              "    <tr>\n",
              "      <th>25%</th>\n",
              "      <td>206.174000</td>\n",
              "    </tr>\n",
              "    <tr>\n",
              "      <th>50%</th>\n",
              "      <td>224.976000</td>\n",
              "    </tr>\n",
              "    <tr>\n",
              "      <th>75%</th>\n",
              "      <td>238.547000</td>\n",
              "    </tr>\n",
              "    <tr>\n",
              "      <th>max</th>\n",
              "      <td>268.958000</td>\n",
              "    </tr>\n",
              "  </tbody>\n",
              "</table>\n",
              "</div>\n",
              "      <button class=\"colab-df-convert\" onclick=\"convertToInteractive('df-67cc7c5f-3044-46cf-ad26-9b1402f24085')\"\n",
              "              title=\"Convert this dataframe to an interactive table.\"\n",
              "              style=\"display:none;\">\n",
              "        \n",
              "  <svg xmlns=\"http://www.w3.org/2000/svg\" height=\"24px\"viewBox=\"0 0 24 24\"\n",
              "       width=\"24px\">\n",
              "    <path d=\"M0 0h24v24H0V0z\" fill=\"none\"/>\n",
              "    <path d=\"M18.56 5.44l.94 2.06.94-2.06 2.06-.94-2.06-.94-.94-2.06-.94 2.06-2.06.94zm-11 1L8.5 8.5l.94-2.06 2.06-.94-2.06-.94L8.5 2.5l-.94 2.06-2.06.94zm10 10l.94 2.06.94-2.06 2.06-.94-2.06-.94-.94-2.06-.94 2.06-2.06.94z\"/><path d=\"M17.41 7.96l-1.37-1.37c-.4-.4-.92-.59-1.43-.59-.52 0-1.04.2-1.43.59L10.3 9.45l-7.72 7.72c-.78.78-.78 2.05 0 2.83L4 21.41c.39.39.9.59 1.41.59.51 0 1.02-.2 1.41-.59l7.78-7.78 2.81-2.81c.8-.78.8-2.07 0-2.86zM5.41 20L4 18.59l7.72-7.72 1.47 1.35L5.41 20z\"/>\n",
              "  </svg>\n",
              "      </button>\n",
              "      \n",
              "  <style>\n",
              "    .colab-df-container {\n",
              "      display:flex;\n",
              "      flex-wrap:wrap;\n",
              "      gap: 12px;\n",
              "    }\n",
              "\n",
              "    .colab-df-convert {\n",
              "      background-color: #E8F0FE;\n",
              "      border: none;\n",
              "      border-radius: 50%;\n",
              "      cursor: pointer;\n",
              "      display: none;\n",
              "      fill: #1967D2;\n",
              "      height: 32px;\n",
              "      padding: 0 0 0 0;\n",
              "      width: 32px;\n",
              "    }\n",
              "\n",
              "    .colab-df-convert:hover {\n",
              "      background-color: #E2EBFA;\n",
              "      box-shadow: 0px 1px 2px rgba(60, 64, 67, 0.3), 0px 1px 3px 1px rgba(60, 64, 67, 0.15);\n",
              "      fill: #174EA6;\n",
              "    }\n",
              "\n",
              "    [theme=dark] .colab-df-convert {\n",
              "      background-color: #3B4455;\n",
              "      fill: #D2E3FC;\n",
              "    }\n",
              "\n",
              "    [theme=dark] .colab-df-convert:hover {\n",
              "      background-color: #434B5C;\n",
              "      box-shadow: 0px 1px 3px 1px rgba(0, 0, 0, 0.15);\n",
              "      filter: drop-shadow(0px 1px 2px rgba(0, 0, 0, 0.3));\n",
              "      fill: #FFFFFF;\n",
              "    }\n",
              "  </style>\n",
              "\n",
              "      <script>\n",
              "        const buttonEl =\n",
              "          document.querySelector('#df-67cc7c5f-3044-46cf-ad26-9b1402f24085 button.colab-df-convert');\n",
              "        buttonEl.style.display =\n",
              "          google.colab.kernel.accessAllowed ? 'block' : 'none';\n",
              "\n",
              "        async function convertToInteractive(key) {\n",
              "          const element = document.querySelector('#df-67cc7c5f-3044-46cf-ad26-9b1402f24085');\n",
              "          const dataTable =\n",
              "            await google.colab.kernel.invokeFunction('convertToInteractive',\n",
              "                                                     [key], {});\n",
              "          if (!dataTable) return;\n",
              "\n",
              "          const docLinkHtml = 'Like what you see? Visit the ' +\n",
              "            '<a target=\"_blank\" href=https://colab.research.google.com/notebooks/data_table.ipynb>data table notebook</a>'\n",
              "            + ' to learn more about interactive tables.';\n",
              "          element.innerHTML = '';\n",
              "          dataTable['output_type'] = 'display_data';\n",
              "          await google.colab.output.renderOutput(dataTable, element);\n",
              "          const docLink = document.createElement('div');\n",
              "          docLink.innerHTML = docLinkHtml;\n",
              "          element.appendChild(docLink);\n",
              "        }\n",
              "      </script>\n",
              "    </div>\n",
              "  </div>\n",
              "  "
            ]
          },
          "metadata": {},
          "execution_count": 28
        }
      ]
    },
    {
      "cell_type": "code",
      "source": [
        "vuelos[['price']].plot()"
      ],
      "metadata": {
        "colab": {
          "base_uri": "https://localhost:8080/",
          "height": 282
        },
        "id": "VUPC3YTh-Re1",
        "outputId": "7e617e3d-1e23-41af-dccb-1e318744bd64"
      },
      "execution_count": 30,
      "outputs": [
        {
          "output_type": "execute_result",
          "data": {
            "text/plain": [
              "<matplotlib.axes._subplots.AxesSubplot at 0x7f3a26df7390>"
            ]
          },
          "metadata": {},
          "execution_count": 30
        },
        {
          "output_type": "display_data",
          "data": {
            "text/plain": [
              "<Figure size 432x288 with 1 Axes>"
            ],
            "image/png": "[encoded data removed]"
          },
          "metadata": {
            "needs_background": "light"
          }
        }
      ]
    },
    {
      "cell_type": "code",
      "source": [
        "vuelos[['price']].plot(kind='bar')"
      ],
      "metadata": {
        "colab": {
          "base_uri": "https://localhost:8080/",
          "height": 285
        },
        "id": "QACbFjWz-pKE",
        "outputId": "a5efa12f-e3bb-4ab9-f0d5-ed21d80c6072"
      },
      "execution_count": 31,
      "outputs": [
        {
          "output_type": "execute_result",
          "data": {
            "text/plain": [
              "<matplotlib.axes._subplots.AxesSubplot at 0x7f3a26d37190>"
            ]
          },
          "metadata": {},
          "execution_count": 31
        },
        {
          "output_type": "display_data",
          "data": {
            "text/plain": [
              "<Figure size 432x288 with 1 Axes>"
            ],
            "image/png": "[encoded data removed]"
          },
          "metadata": {
            "needs_background": "light"
          }
        }
      ]
    }
  ]
}