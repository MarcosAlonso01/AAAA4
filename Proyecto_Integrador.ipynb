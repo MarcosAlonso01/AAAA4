{
  "nbformat": 4,
  "nbformat_minor": 0,
  "metadata": {
    "colab": {
      "provenance": [],
      "collapsed_sections": []
    },
    "kernelspec": {
      "name": "python3",
      "display_name": "Python 3"
    },
    "language_info": {
      "name": "python"
    }
  },
  "cells": [
    {
      "cell_type": "code",
      "source": [
        "!pip install db-sqlite3 lxml selenium"
      ],
      "metadata": {
        "id": "UlzsxvvlxeRn"
      },
      "execution_count": null,
      "outputs": []
    },
    {
      "cell_type": "code",
      "source": [
        "!apt-get update \n",
        "!apt install chromium-chromedriver\n",
        "!cp /usr/lib/chromium-browser/chromedriver /usr/bin\n"
      ],
      "metadata": {
        "id": "cFlDAh4HjefG"
      },
      "execution_count": null,
      "outputs": []
    },
    {
      "cell_type": "code",
      "source": [
        "import sqlite3\n",
        "from bs4 import BeautifulSoup\n",
        "from selenium import webdriver\n",
        "from selenium.webdriver.support.ui import WebDriverWait\n",
        "from selenium.webdriver.common.by import By\n",
        "from selenium.webdriver.support import expected_conditions as EC\n",
        "from selenium.webdriver.common.action_chains import ActionChains\n",
        "import time\n",
        "import pandas as pd\n",
        "import matplotlib.pyplot as plt"
      ],
      "metadata": {
        "id": "aS0OH_Byxpro"
      },
      "execution_count": 3,
      "outputs": []
    },
    {
      "cell_type": "markdown",
      "source": [
        "Se crea la  BBDD"
      ],
      "metadata": {
        "id": "lrrl4Nzx_dcJ"
      }
    },
    {
      "cell_type": "code",
      "source": [
        "conn = sqlite3.connect('mydatabase.db')\n",
        "print(\"Opened database successfully\")\n",
        "cur = conn.cursor()"
      ],
      "metadata": {
        "id": "wsuUN13O_U6g",
        "colab": {
          "base_uri": "https://localhost:8080/"
        },
        "outputId": "4a27947e-12b2-4dc8-c0d2-e0c3fec4928e"
      },
      "execution_count": 4,
      "outputs": [
        {
          "output_type": "stream",
          "name": "stdout",
          "text": [
            "Opened database successfully\n"
          ]
        }
      ]
    },
    {
      "cell_type": "markdown",
      "source": [
        "Se crean las tablas LUGAR y VUELO"
      ],
      "metadata": {
        "id": "dZcx3IqS_sKr"
      }
    },
    {
      "cell_type": "code",
      "source": [
        "cur.execute(\"CREATE TABLE IF NOT EXISTS lugar (descripcion  CHAR(50))\")\n",
        "cur.execute(\"CREATE TABLE IF NOT EXISTS vuelo (origen INTEGER, destino INTEGER, compania CHAR(50), escalaida INTEGER, tiempoida REAL, escalavuelta INTEGER, tiempovuelta INTEGER ,precio REAL)\")"
      ],
      "metadata": {
        "id": "HPN3v-Bt_ZAQ",
        "colab": {
          "base_uri": "https://localhost:8080/"
        },
        "outputId": "6783e5f3-95a8-41b8-c75b-5506e459a8f9"
      },
      "execution_count": 5,
      "outputs": [
        {
          "output_type": "execute_result",
          "data": {
            "text/plain": [
              "<sqlite3.Cursor at 0x7f5d3cb49d50>"
            ]
          },
          "metadata": {},
          "execution_count": 5
        }
      ]
    },
    {
      "cell_type": "code",
      "source": [
        "cur.execute(\"INSERT INTO lugar(descripcion) VALUES('CORDOBA')\")\n",
        "cur.execute(\"INSERT INTO lugar(descripcion) VALUES('MADRID')\")\n",
        "conn.commit()"
      ],
      "metadata": {
        "id": "nA1lRylEm2dg"
      },
      "execution_count": 6,
      "outputs": []
    },
    {
      "cell_type": "markdown",
      "source": [
        "Función que nos permite realizar el Web scraping"
      ],
      "metadata": {
        "id": "81NeQnsG7omJ"
      }
    },
    {
      "cell_type": "code",
      "source": [
        "def resultado(url):\n",
        "  SCROLL_PAUSE_TIME = 0.5\n",
        "  options = webdriver.ChromeOptions()\n",
        "  options.add_argument('--headless')\n",
        "  options.add_argument('--no-sandbox')\n",
        "  options.add_argument('--disable-dev-shm-usage')\n",
        "  options.add_argument('--ignore-certificate-errors')\n",
        "  options.add_argument('--incognito')\n",
        "\n",
        "  driver = webdriver.Chrome('chromedriver',options=options)\n",
        "\n",
        "  last_height = driver.execute_script(\"return document.body.scrollHeight\")\n",
        "\n",
        "  # open web page\n",
        "  driver.get(url)\n",
        "  WebDriverWait(driver, 30).until(EC.presence_of_element_located((By.CLASS_NAME, 'COMMON')))\n",
        "  while True:\n",
        "    # Scroll down to bottom\n",
        "    driver.execute_script(\"window.scrollTo(0, document.body.scrollHeight);\")\n",
        "\n",
        "    # Wait to load page\n",
        "    time.sleep(SCROLL_PAUSE_TIME)\n",
        "\n",
        "    # Calculate new scroll height and compare with last scroll height\n",
        "    new_height = driver.execute_script(\"return document.body.scrollHeight\")\n",
        "    if new_height == last_height:\n",
        "        break\n",
        "    last_height = new_height\n",
        "    #WebDriverWait(driver, 40).until(EC.presence_of_all_elements_located((By.TAG_NAME,'cluster')))\n",
        "\n",
        "  html = driver.page_source\n",
        "  soup = BeautifulSoup(html, 'html.parser') \n",
        "  return soup"
      ],
      "metadata": {
        "id": "eHaKtUu4TDsB"
      },
      "execution_count": 7,
      "outputs": []
    },
    {
      "cell_type": "markdown",
      "source": [
        "Se conecta al sitio web despegar. Se busca los vuelos Córdoba - Madrid"
      ],
      "metadata": {
        "id": "643dqBdx-9ZV"
      }
    },
    {
      "cell_type": "code",
      "source": [
        "soup = resultado('https://www.despegar.com.ar/shop/flights/results/roundtrip/COR/MAD/2022-12-01/2022-12-14/1/0/0/NA/NA/NA/NA/NA?from=SB&di=1-0')"
      ],
      "metadata": {
        "id": "BX7C6m9DVRS1"
      },
      "execution_count": 8,
      "outputs": []
    },
    {
      "cell_type": "markdown",
      "source": [
        "Se realiza insert a la tabla vuelo"
      ],
      "metadata": {
        "id": "LqcGhUWJ-1C1"
      }
    },
    {
      "cell_type": "code",
      "source": [
        "name = soup.find_all('cluster', class_='COMMON')\n",
        "for link in name:\n",
        "  compania = link.find('span', class_='name').get_text().lstrip()\n",
        "  precio = link.find('span', class_='amount price-amount').get_text()\n",
        "  way = link.find_all('span', class_='sub-cluster');\n",
        "  ida = way[0].find('span', class_='stops-wrapper text').get_text() \n",
        "  vuelta = way[1].find('span', class_='stops-wrapper text').get_text() \n",
        "  escala_ida = ida[1]\n",
        "  tiempo_ida = str(float(ida[11:13]) + (float(ida[16:18]) / 60))\n",
        "  escala_vuelta = vuelta[1]\n",
        "  tiempo_vuelta = str(float(vuelta[11:13]) + (float(vuelta[16:18]) / 60))\n",
        "\n",
        "  cur.execute(\"INSERT INTO vuelo VALUES (1, 2, '\"+ compania +\"',\"+ escala_ida +\",\" + tiempo_ida +\",\" + escala_vuelta +\",\"+ tiempo_vuelta + \",\" + precio + \")\")\n",
        "  conn.commit()"
      ],
      "metadata": {
        "id": "udIIpjLOWLry"
      },
      "execution_count": 12,
      "outputs": []
    },
    {
      "cell_type": "code",
      "source": [
        "vuelos = pd.read_sql(\"SELECT L.descripcion as origen, L2.descripcion as destino, V.compania, V.escalaida, V.tiempoida, V.escalavuelta, V.tiempovuelta, V.precio FROM vuelo V INNER JOIN lugar L ON V.origen = L.rowid INNER JOIN lugar L2 on V.destino = L2.rowid\", conn)"
      ],
      "metadata": {
        "id": "pPqizuM93vqO"
      },
      "execution_count": 37,
      "outputs": []
    },
    {
      "cell_type": "code",
      "source": [
        "vuelos"
      ],
      "metadata": {
        "id": "pGYpUv_U7FwY",
        "colab": {
          "base_uri": "https://localhost:8080/",
          "height": 990
        },
        "outputId": "379e708c-3312-4357-8b57-7eb782f6fbca"
      },
      "execution_count": 38,
      "outputs": [
        {
          "output_type": "execute_result",
          "data": {
            "text/plain": [
              "     origen destino                compania  escalaida  tiempoida  \\\n",
              "0   CORDOBA  MADRID  Aerolíneas Argentinas           1  17.500000   \n",
              "1   CORDOBA  MADRID                  LATAM           2   4.033333   \n",
              "2   CORDOBA  MADRID                  LATAM           2   4.033333   \n",
              "3   CORDOBA  MADRID                  LATAM           2   4.033333   \n",
              "4   CORDOBA  MADRID                  LATAM           1  21.850000   \n",
              "5   CORDOBA  MADRID                  LATAM           2   4.033333   \n",
              "6   CORDOBA  MADRID                  LATAM           2   2.083333   \n",
              "7   CORDOBA  MADRID                  LATAM           1  21.850000   \n",
              "8   CORDOBA  MADRID                  LATAM           2   4.033333   \n",
              "9   CORDOBA  MADRID  Aerolíneas Argentinas           1  17.500000   \n",
              "10  CORDOBA  MADRID                  LATAM           2   4.033333   \n",
              "11  CORDOBA  MADRID                  LATAM           1  21.850000   \n",
              "12  CORDOBA  MADRID                  LATAM           2   2.083333   \n",
              "13  CORDOBA  MADRID                  LATAM           2   4.033333   \n",
              "14  CORDOBA  MADRID                  LATAM           2   4.033333   \n",
              "15  CORDOBA  MADRID                  LATAM           2   4.033333   \n",
              "16  CORDOBA  MADRID                  LATAM           2   4.033333   \n",
              "17  CORDOBA  MADRID                  LATAM           2   4.033333   \n",
              "18  CORDOBA  MADRID                  LATAM           2   4.033333   \n",
              "19  CORDOBA  MADRID                  LATAM           2   4.033333   \n",
              "20  CORDOBA  MADRID                  LATAM           2   4.033333   \n",
              "21  CORDOBA  MADRID                  LATAM           2   4.033333   \n",
              "22  CORDOBA  MADRID                  LATAM           1  21.850000   \n",
              "23  CORDOBA  MADRID                  LATAM           1  21.850000   \n",
              "24  CORDOBA  MADRID                  LATAM           2   5.016667   \n",
              "25  CORDOBA  MADRID                  LATAM           2   4.033333   \n",
              "26  CORDOBA  MADRID                  LATAM           2   2.083333   \n",
              "27  CORDOBA  MADRID                  LATAM           2   4.033333   \n",
              "28  CORDOBA  MADRID                  LATAM           2   2.083333   \n",
              "29  CORDOBA  MADRID                  LATAM           1  21.850000   \n",
              "\n",
              "    escalavuelta  tiempovuelta   precio  \n",
              "0              1     17.750000  139.946  \n",
              "1              1     33.333333  176.686  \n",
              "2              1     33.333333  176.686  \n",
              "3              2      4.083333  162.992  \n",
              "4              1     33.333333  205.577  \n",
              "5              2      4.083333  162.992  \n",
              "6              1     33.333333  202.905  \n",
              "7              2      4.083333  192.050  \n",
              "8              2      3.050000  188.543  \n",
              "9              1     18.583333  168.336  \n",
              "10             2      3.050000  188.543  \n",
              "11             2      3.050000  217.434  \n",
              "12             2      3.050000  214.762  \n",
              "13             1     33.333333  198.396  \n",
              "14             2      3.050000  198.396  \n",
              "15             1     33.333333  198.396  \n",
              "16             2      3.050000  198.396  \n",
              "17             2      4.083333  183.032  \n",
              "18             2      4.083333  183.032  \n",
              "19             2      4.066667  188.543  \n",
              "20             2      2.066667  218.102  \n",
              "21             1     33.333333  202.237  \n",
              "22             1     33.333333  229.291  \n",
              "23             2      3.050000  229.291  \n",
              "24             1     33.333333  202.237  \n",
              "25             2      4.066667  188.543  \n",
              "26             1     33.333333  226.786  \n",
              "27             2      2.066667  218.102  \n",
              "28             2      3.050000  226.786  \n",
              "29             2      4.083333  214.094  "
            ],
            "text/html": [
              "\n",
              "  <div id=\"df-0d94c10b-a87a-43da-864f-88469c3a7835\">\n",
              "    <div class=\"colab-df-container\">\n",
              "      <div>\n",
              "<style scoped>\n",
              "    .dataframe tbody tr th:only-of-type {\n",
              "        vertical-align: middle;\n",
              "    }\n",
              "\n",
              "    .dataframe tbody tr th {\n",
              "        vertical-align: top;\n",
              "    }\n",
              "\n",
              "    .dataframe thead th {\n",
              "        text-align: right;\n",
              "    }\n",
              "</style>\n",
              "<table border=\"1\" class=\"dataframe\">\n",
              "  <thead>\n",
              "    <tr style=\"text-align: right;\">\n",
              "      <th></th>\n",
              "      <th>origen</th>\n",
              "      <th>destino</th>\n",
              "      <th>compania</th>\n",
              "      <th>escalaida</th>\n",
              "      <th>tiempoida</th>\n",
              "      <th>escalavuelta</th>\n",
              "      <th>tiempovuelta</th>\n",
              "      <th>precio</th>\n",
              "    </tr>\n",
              "  </thead>\n",
              "  <tbody>\n",
              "    <tr>\n",
              "      <th>0</th>\n",
              "      <td>CORDOBA</td>\n",
              "      <td>MADRID</td>\n",
              "      <td>Aerolíneas Argentinas</td>\n",
              "      <td>1</td>\n",
              "      <td>17.500000</td>\n",
              "      <td>1</td>\n",
              "      <td>17.750000</td>\n",
              "      <td>139.946</td>\n",
              "    </tr>\n",
              "    <tr>\n",
              "      <th>1</th>\n",
              "      <td>CORDOBA</td>\n",
              "      <td>MADRID</td>\n",
              "      <td>LATAM</td>\n",
              "      <td>2</td>\n",
              "      <td>4.033333</td>\n",
              "      <td>1</td>\n",
              "      <td>33.333333</td>\n",
              "      <td>176.686</td>\n",
              "    </tr>\n",
              "    <tr>\n",
              "      <th>2</th>\n",
              "      <td>CORDOBA</td>\n",
              "      <td>MADRID</td>\n",
              "      <td>LATAM</td>\n",
              "      <td>2</td>\n",
              "      <td>4.033333</td>\n",
              "      <td>1</td>\n",
              "      <td>33.333333</td>\n",
              "      <td>176.686</td>\n",
              "    </tr>\n",
              "    <tr>\n",
              "      <th>3</th>\n",
              "      <td>CORDOBA</td>\n",
              "      <td>MADRID</td>\n",
              "      <td>LATAM</td>\n",
              "      <td>2</td>\n",
              "      <td>4.033333</td>\n",
              "      <td>2</td>\n",
              "      <td>4.083333</td>\n",
              "      <td>162.992</td>\n",
              "    </tr>\n",
              "    <tr>\n",
              "      <th>4</th>\n",
              "      <td>CORDOBA</td>\n",
              "      <td>MADRID</td>\n",
              "      <td>LATAM</td>\n",
              "      <td>1</td>\n",
              "      <td>21.850000</td>\n",
              "      <td>1</td>\n",
              "      <td>33.333333</td>\n",
              "      <td>205.577</td>\n",
              "    </tr>\n",
              "    <tr>\n",
              "      <th>5</th>\n",
              "      <td>CORDOBA</td>\n",
              "      <td>MADRID</td>\n",
              "      <td>LATAM</td>\n",
              "      <td>2</td>\n",
              "      <td>4.033333</td>\n",
              "      <td>2</td>\n",
              "      <td>4.083333</td>\n",
              "      <td>162.992</td>\n",
              "    </tr>\n",
              "    <tr>\n",
              "      <th>6</th>\n",
              "      <td>CORDOBA</td>\n",
              "      <td>MADRID</td>\n",
              "      <td>LATAM</td>\n",
              "      <td>2</td>\n",
              "      <td>2.083333</td>\n",
              "      <td>1</td>\n",
              "      <td>33.333333</td>\n",
              "      <td>202.905</td>\n",
              "    </tr>\n",
              "    <tr>\n",
              "      <th>7</th>\n",
              "      <td>CORDOBA</td>\n",
              "      <td>MADRID</td>\n",
              "      <td>LATAM</td>\n",
              "      <td>1</td>\n",
              "      <td>21.850000</td>\n",
              "      <td>2</td>\n",
              "      <td>4.083333</td>\n",
              "      <td>192.050</td>\n",
              "    </tr>\n",
              "    <tr>\n",
              "      <th>8</th>\n",
              "      <td>CORDOBA</td>\n",
              "      <td>MADRID</td>\n",
              "      <td>LATAM</td>\n",
              "      <td>2</td>\n",
              "      <td>4.033333</td>\n",
              "      <td>2</td>\n",
              "      <td>3.050000</td>\n",
              "      <td>188.543</td>\n",
              "    </tr>\n",
              "    <tr>\n",
              "      <th>9</th>\n",
              "      <td>CORDOBA</td>\n",
              "      <td>MADRID</td>\n",
              "      <td>Aerolíneas Argentinas</td>\n",
              "      <td>1</td>\n",
              "      <td>17.500000</td>\n",
              "      <td>1</td>\n",
              "      <td>18.583333</td>\n",
              "      <td>168.336</td>\n",
              "    </tr>\n",
              "    <tr>\n",
              "      <th>10</th>\n",
              "      <td>CORDOBA</td>\n",
              "      <td>MADRID</td>\n",
              "      <td>LATAM</td>\n",
              "      <td>2</td>\n",
              "      <td>4.033333</td>\n",
              "      <td>2</td>\n",
              "      <td>3.050000</td>\n",
              "      <td>188.543</td>\n",
              "    </tr>\n",
              "    <tr>\n",
              "      <th>11</th>\n",
              "      <td>CORDOBA</td>\n",
              "      <td>MADRID</td>\n",
              "      <td>LATAM</td>\n",
              "      <td>1</td>\n",
              "      <td>21.850000</td>\n",
              "      <td>2</td>\n",
              "      <td>3.050000</td>\n",
              "      <td>217.434</td>\n",
              "    </tr>\n",
              "    <tr>\n",
              "      <th>12</th>\n",
              "      <td>CORDOBA</td>\n",
              "      <td>MADRID</td>\n",
              "      <td>LATAM</td>\n",
              "      <td>2</td>\n",
              "      <td>2.083333</td>\n",
              "      <td>2</td>\n",
              "      <td>3.050000</td>\n",
              "      <td>214.762</td>\n",
              "    </tr>\n",
              "    <tr>\n",
              "      <th>13</th>\n",
              "      <td>CORDOBA</td>\n",
              "      <td>MADRID</td>\n",
              "      <td>LATAM</td>\n",
              "      <td>2</td>\n",
              "      <td>4.033333</td>\n",
              "      <td>1</td>\n",
              "      <td>33.333333</td>\n",
              "      <td>198.396</td>\n",
              "    </tr>\n",
              "    <tr>\n",
              "      <th>14</th>\n",
              "      <td>CORDOBA</td>\n",
              "      <td>MADRID</td>\n",
              "      <td>LATAM</td>\n",
              "      <td>2</td>\n",
              "      <td>4.033333</td>\n",
              "      <td>2</td>\n",
              "      <td>3.050000</td>\n",
              "      <td>198.396</td>\n",
              "    </tr>\n",
              "    <tr>\n",
              "      <th>15</th>\n",
              "      <td>CORDOBA</td>\n",
              "      <td>MADRID</td>\n",
              "      <td>LATAM</td>\n",
              "      <td>2</td>\n",
              "      <td>4.033333</td>\n",
              "      <td>1</td>\n",
              "      <td>33.333333</td>\n",
              "      <td>198.396</td>\n",
              "    </tr>\n",
              "    <tr>\n",
              "      <th>16</th>\n",
              "      <td>CORDOBA</td>\n",
              "      <td>MADRID</td>\n",
              "      <td>LATAM</td>\n",
              "      <td>2</td>\n",
              "      <td>4.033333</td>\n",
              "      <td>2</td>\n",
              "      <td>3.050000</td>\n",
              "      <td>198.396</td>\n",
              "    </tr>\n",
              "    <tr>\n",
              "      <th>17</th>\n",
              "      <td>CORDOBA</td>\n",
              "      <td>MADRID</td>\n",
              "      <td>LATAM</td>\n",
              "      <td>2</td>\n",
              "      <td>4.033333</td>\n",
              "      <td>2</td>\n",
              "      <td>4.083333</td>\n",
              "      <td>183.032</td>\n",
              "    </tr>\n",
              "    <tr>\n",
              "      <th>18</th>\n",
              "      <td>CORDOBA</td>\n",
              "      <td>MADRID</td>\n",
              "      <td>LATAM</td>\n",
              "      <td>2</td>\n",
              "      <td>4.033333</td>\n",
              "      <td>2</td>\n",
              "      <td>4.083333</td>\n",
              "      <td>183.032</td>\n",
              "    </tr>\n",
              "    <tr>\n",
              "      <th>19</th>\n",
              "      <td>CORDOBA</td>\n",
              "      <td>MADRID</td>\n",
              "      <td>LATAM</td>\n",
              "      <td>2</td>\n",
              "      <td>4.033333</td>\n",
              "      <td>2</td>\n",
              "      <td>4.066667</td>\n",
              "      <td>188.543</td>\n",
              "    </tr>\n",
              "    <tr>\n",
              "      <th>20</th>\n",
              "      <td>CORDOBA</td>\n",
              "      <td>MADRID</td>\n",
              "      <td>LATAM</td>\n",
              "      <td>2</td>\n",
              "      <td>4.033333</td>\n",
              "      <td>2</td>\n",
              "      <td>2.066667</td>\n",
              "      <td>218.102</td>\n",
              "    </tr>\n",
              "    <tr>\n",
              "      <th>21</th>\n",
              "      <td>CORDOBA</td>\n",
              "      <td>MADRID</td>\n",
              "      <td>LATAM</td>\n",
              "      <td>2</td>\n",
              "      <td>4.033333</td>\n",
              "      <td>1</td>\n",
              "      <td>33.333333</td>\n",
              "      <td>202.237</td>\n",
              "    </tr>\n",
              "    <tr>\n",
              "      <th>22</th>\n",
              "      <td>CORDOBA</td>\n",
              "      <td>MADRID</td>\n",
              "      <td>LATAM</td>\n",
              "      <td>1</td>\n",
              "      <td>21.850000</td>\n",
              "      <td>1</td>\n",
              "      <td>33.333333</td>\n",
              "      <td>229.291</td>\n",
              "    </tr>\n",
              "    <tr>\n",
              "      <th>23</th>\n",
              "      <td>CORDOBA</td>\n",
              "      <td>MADRID</td>\n",
              "      <td>LATAM</td>\n",
              "      <td>1</td>\n",
              "      <td>21.850000</td>\n",
              "      <td>2</td>\n",
              "      <td>3.050000</td>\n",
              "      <td>229.291</td>\n",
              "    </tr>\n",
              "    <tr>\n",
              "      <th>24</th>\n",
              "      <td>CORDOBA</td>\n",
              "      <td>MADRID</td>\n",
              "      <td>LATAM</td>\n",
              "      <td>2</td>\n",
              "      <td>5.016667</td>\n",
              "      <td>1</td>\n",
              "      <td>33.333333</td>\n",
              "      <td>202.237</td>\n",
              "    </tr>\n",
              "    <tr>\n",
              "      <th>25</th>\n",
              "      <td>CORDOBA</td>\n",
              "      <td>MADRID</td>\n",
              "      <td>LATAM</td>\n",
              "      <td>2</td>\n",
              "      <td>4.033333</td>\n",
              "      <td>2</td>\n",
              "      <td>4.066667</td>\n",
              "      <td>188.543</td>\n",
              "    </tr>\n",
              "    <tr>\n",
              "      <th>26</th>\n",
              "      <td>CORDOBA</td>\n",
              "      <td>MADRID</td>\n",
              "      <td>LATAM</td>\n",
              "      <td>2</td>\n",
              "      <td>2.083333</td>\n",
              "      <td>1</td>\n",
              "      <td>33.333333</td>\n",
              "      <td>226.786</td>\n",
              "    </tr>\n",
              "    <tr>\n",
              "      <th>27</th>\n",
              "      <td>CORDOBA</td>\n",
              "      <td>MADRID</td>\n",
              "      <td>LATAM</td>\n",
              "      <td>2</td>\n",
              "      <td>4.033333</td>\n",
              "      <td>2</td>\n",
              "      <td>2.066667</td>\n",
              "      <td>218.102</td>\n",
              "    </tr>\n",
              "    <tr>\n",
              "      <th>28</th>\n",
              "      <td>CORDOBA</td>\n",
              "      <td>MADRID</td>\n",
              "      <td>LATAM</td>\n",
              "      <td>2</td>\n",
              "      <td>2.083333</td>\n",
              "      <td>2</td>\n",
              "      <td>3.050000</td>\n",
              "      <td>226.786</td>\n",
              "    </tr>\n",
              "    <tr>\n",
              "      <th>29</th>\n",
              "      <td>CORDOBA</td>\n",
              "      <td>MADRID</td>\n",
              "      <td>LATAM</td>\n",
              "      <td>1</td>\n",
              "      <td>21.850000</td>\n",
              "      <td>2</td>\n",
              "      <td>4.083333</td>\n",
              "      <td>214.094</td>\n",
              "    </tr>\n",
              "  </tbody>\n",
              "</table>\n",
              "</div>\n",
              "      <button class=\"colab-df-convert\" onclick=\"convertToInteractive('df-0d94c10b-a87a-43da-864f-88469c3a7835')\"\n",
              "              title=\"Convert this dataframe to an interactive table.\"\n",
              "              style=\"display:none;\">\n",
              "        \n",
              "  <svg xmlns=\"http://www.w3.org/2000/svg\" height=\"24px\"viewBox=\"0 0 24 24\"\n",
              "       width=\"24px\">\n",
              "    <path d=\"M0 0h24v24H0V0z\" fill=\"none\"/>\n",
              "    <path d=\"M18.56 5.44l.94 2.06.94-2.06 2.06-.94-2.06-.94-.94-2.06-.94 2.06-2.06.94zm-11 1L8.5 8.5l.94-2.06 2.06-.94-2.06-.94L8.5 2.5l-.94 2.06-2.06.94zm10 10l.94 2.06.94-2.06 2.06-.94-2.06-.94-.94-2.06-.94 2.06-2.06.94z\"/><path d=\"M17.41 7.96l-1.37-1.37c-.4-.4-.92-.59-1.43-.59-.52 0-1.04.2-1.43.59L10.3 9.45l-7.72 7.72c-.78.78-.78 2.05 0 2.83L4 21.41c.39.39.9.59 1.41.59.51 0 1.02-.2 1.41-.59l7.78-7.78 2.81-2.81c.8-.78.8-2.07 0-2.86zM5.41 20L4 18.59l7.72-7.72 1.47 1.35L5.41 20z\"/>\n",
              "  </svg>\n",
              "      </button>\n",
              "      \n",
              "  <style>\n",
              "    .colab-df-container {\n",
              "      display:flex;\n",
              "      flex-wrap:wrap;\n",
              "      gap: 12px;\n",
              "    }\n",
              "\n",
              "    .colab-df-convert {\n",
              "      background-color: #E8F0FE;\n",
              "      border: none;\n",
              "      border-radius: 50%;\n",
              "      cursor: pointer;\n",
              "      display: none;\n",
              "      fill: #1967D2;\n",
              "      height: 32px;\n",
              "      padding: 0 0 0 0;\n",
              "      width: 32px;\n",
              "    }\n",
              "\n",
              "    .colab-df-convert:hover {\n",
              "      background-color: #E2EBFA;\n",
              "      box-shadow: 0px 1px 2px rgba(60, 64, 67, 0.3), 0px 1px 3px 1px rgba(60, 64, 67, 0.15);\n",
              "      fill: #174EA6;\n",
              "    }\n",
              "\n",
              "    [theme=dark] .colab-df-convert {\n",
              "      background-color: #3B4455;\n",
              "      fill: #D2E3FC;\n",
              "    }\n",
              "\n",
              "    [theme=dark] .colab-df-convert:hover {\n",
              "      background-color: #434B5C;\n",
              "      box-shadow: 0px 1px 3px 1px rgba(0, 0, 0, 0.15);\n",
              "      filter: drop-shadow(0px 1px 2px rgba(0, 0, 0, 0.3));\n",
              "      fill: #FFFFFF;\n",
              "    }\n",
              "  </style>\n",
              "\n",
              "      <script>\n",
              "        const buttonEl =\n",
              "          document.querySelector('#df-0d94c10b-a87a-43da-864f-88469c3a7835 button.colab-df-convert');\n",
              "        buttonEl.style.display =\n",
              "          google.colab.kernel.accessAllowed ? 'block' : 'none';\n",
              "\n",
              "        async function convertToInteractive(key) {\n",
              "          const element = document.querySelector('#df-0d94c10b-a87a-43da-864f-88469c3a7835');\n",
              "          const dataTable =\n",
              "            await google.colab.kernel.invokeFunction('convertToInteractive',\n",
              "                                                     [key], {});\n",
              "          if (!dataTable) return;\n",
              "\n",
              "          const docLinkHtml = 'Like what you see? Visit the ' +\n",
              "            '<a target=\"_blank\" href=https://colab.research.google.com/notebooks/data_table.ipynb>data table notebook</a>'\n",
              "            + ' to learn more about interactive tables.';\n",
              "          element.innerHTML = '';\n",
              "          dataTable['output_type'] = 'display_data';\n",
              "          await google.colab.output.renderOutput(dataTable, element);\n",
              "          const docLink = document.createElement('div');\n",
              "          docLink.innerHTML = docLinkHtml;\n",
              "          element.appendChild(docLink);\n",
              "        }\n",
              "      </script>\n",
              "    </div>\n",
              "  </div>\n",
              "  "
            ]
          },
          "metadata": {},
          "execution_count": 38
        }
      ]
    },
    {
      "cell_type": "markdown",
      "source": [
        "Se muestan los resultados que solo tengan una escala"
      ],
      "metadata": {
        "id": "BNkyFFRs8Ijo"
      }
    },
    {
      "cell_type": "code",
      "source": [
        "filt = (vuelos['escalaida'] == 1) & (vuelos['escalavuelta'] == 1)\n",
        "vuelos.loc[filt]"
      ],
      "metadata": {
        "colab": {
          "base_uri": "https://localhost:8080/",
          "height": 175
        },
        "id": "KrzbkrRJWqac",
        "outputId": "7f712afc-e1db-4e68-db3f-0cf34a6b2d48"
      },
      "execution_count": 51,
      "outputs": [
        {
          "output_type": "execute_result",
          "data": {
            "text/plain": [
              "     origen destino                compania  escalaida  tiempoida  \\\n",
              "0   CORDOBA  MADRID  Aerolíneas Argentinas           1      17.50   \n",
              "4   CORDOBA  MADRID                  LATAM           1      21.85   \n",
              "9   CORDOBA  MADRID  Aerolíneas Argentinas           1      17.50   \n",
              "22  CORDOBA  MADRID                  LATAM           1      21.85   \n",
              "\n",
              "    escalavuelta  tiempovuelta   precio  \n",
              "0              1     17.750000  139.946  \n",
              "4              1     33.333333  205.577  \n",
              "9              1     18.583333  168.336  \n",
              "22             1     33.333333  229.291  "
            ],
            "text/html": [
              "\n",
              "  <div id=\"df-b241f20f-7991-44c9-bb3a-bbd3308a720a\">\n",
              "    <div class=\"colab-df-container\">\n",
              "      <div>\n",
              "<style scoped>\n",
              "    .dataframe tbody tr th:only-of-type {\n",
              "        vertical-align: middle;\n",
              "    }\n",
              "\n",
              "    .dataframe tbody tr th {\n",
              "        vertical-align: top;\n",
              "    }\n",
              "\n",
              "    .dataframe thead th {\n",
              "        text-align: right;\n",
              "    }\n",
              "</style>\n",
              "<table border=\"1\" class=\"dataframe\">\n",
              "  <thead>\n",
              "    <tr style=\"text-align: right;\">\n",
              "      <th></th>\n",
              "      <th>origen</th>\n",
              "      <th>destino</th>\n",
              "      <th>compania</th>\n",
              "      <th>escalaida</th>\n",
              "      <th>tiempoida</th>\n",
              "      <th>escalavuelta</th>\n",
              "      <th>tiempovuelta</th>\n",
              "      <th>precio</th>\n",
              "    </tr>\n",
              "  </thead>\n",
              "  <tbody>\n",
              "    <tr>\n",
              "      <th>0</th>\n",
              "      <td>CORDOBA</td>\n",
              "      <td>MADRID</td>\n",
              "      <td>Aerolíneas Argentinas</td>\n",
              "      <td>1</td>\n",
              "      <td>17.50</td>\n",
              "      <td>1</td>\n",
              "      <td>17.750000</td>\n",
              "      <td>139.946</td>\n",
              "    </tr>\n",
              "    <tr>\n",
              "      <th>4</th>\n",
              "      <td>CORDOBA</td>\n",
              "      <td>MADRID</td>\n",
              "      <td>LATAM</td>\n",
              "      <td>1</td>\n",
              "      <td>21.85</td>\n",
              "      <td>1</td>\n",
              "      <td>33.333333</td>\n",
              "      <td>205.577</td>\n",
              "    </tr>\n",
              "    <tr>\n",
              "      <th>9</th>\n",
              "      <td>CORDOBA</td>\n",
              "      <td>MADRID</td>\n",
              "      <td>Aerolíneas Argentinas</td>\n",
              "      <td>1</td>\n",
              "      <td>17.50</td>\n",
              "      <td>1</td>\n",
              "      <td>18.583333</td>\n",
              "      <td>168.336</td>\n",
              "    </tr>\n",
              "    <tr>\n",
              "      <th>22</th>\n",
              "      <td>CORDOBA</td>\n",
              "      <td>MADRID</td>\n",
              "      <td>LATAM</td>\n",
              "      <td>1</td>\n",
              "      <td>21.85</td>\n",
              "      <td>1</td>\n",
              "      <td>33.333333</td>\n",
              "      <td>229.291</td>\n",
              "    </tr>\n",
              "  </tbody>\n",
              "</table>\n",
              "</div>\n",
              "      <button class=\"colab-df-convert\" onclick=\"convertToInteractive('df-b241f20f-7991-44c9-bb3a-bbd3308a720a')\"\n",
              "              title=\"Convert this dataframe to an interactive table.\"\n",
              "              style=\"display:none;\">\n",
              "        \n",
              "  <svg xmlns=\"http://www.w3.org/2000/svg\" height=\"24px\"viewBox=\"0 0 24 24\"\n",
              "       width=\"24px\">\n",
              "    <path d=\"M0 0h24v24H0V0z\" fill=\"none\"/>\n",
              "    <path d=\"M18.56 5.44l.94 2.06.94-2.06 2.06-.94-2.06-.94-.94-2.06-.94 2.06-2.06.94zm-11 1L8.5 8.5l.94-2.06 2.06-.94-2.06-.94L8.5 2.5l-.94 2.06-2.06.94zm10 10l.94 2.06.94-2.06 2.06-.94-2.06-.94-.94-2.06-.94 2.06-2.06.94z\"/><path d=\"M17.41 7.96l-1.37-1.37c-.4-.4-.92-.59-1.43-.59-.52 0-1.04.2-1.43.59L10.3 9.45l-7.72 7.72c-.78.78-.78 2.05 0 2.83L4 21.41c.39.39.9.59 1.41.59.51 0 1.02-.2 1.41-.59l7.78-7.78 2.81-2.81c.8-.78.8-2.07 0-2.86zM5.41 20L4 18.59l7.72-7.72 1.47 1.35L5.41 20z\"/>\n",
              "  </svg>\n",
              "      </button>\n",
              "      \n",
              "  <style>\n",
              "    .colab-df-container {\n",
              "      display:flex;\n",
              "      flex-wrap:wrap;\n",
              "      gap: 12px;\n",
              "    }\n",
              "\n",
              "    .colab-df-convert {\n",
              "      background-color: #E8F0FE;\n",
              "      border: none;\n",
              "      border-radius: 50%;\n",
              "      cursor: pointer;\n",
              "      display: none;\n",
              "      fill: #1967D2;\n",
              "      height: 32px;\n",
              "      padding: 0 0 0 0;\n",
              "      width: 32px;\n",
              "    }\n",
              "\n",
              "    .colab-df-convert:hover {\n",
              "      background-color: #E2EBFA;\n",
              "      box-shadow: 0px 1px 2px rgba(60, 64, 67, 0.3), 0px 1px 3px 1px rgba(60, 64, 67, 0.15);\n",
              "      fill: #174EA6;\n",
              "    }\n",
              "\n",
              "    [theme=dark] .colab-df-convert {\n",
              "      background-color: #3B4455;\n",
              "      fill: #D2E3FC;\n",
              "    }\n",
              "\n",
              "    [theme=dark] .colab-df-convert:hover {\n",
              "      background-color: #434B5C;\n",
              "      box-shadow: 0px 1px 3px 1px rgba(0, 0, 0, 0.15);\n",
              "      filter: drop-shadow(0px 1px 2px rgba(0, 0, 0, 0.3));\n",
              "      fill: #FFFFFF;\n",
              "    }\n",
              "  </style>\n",
              "\n",
              "      <script>\n",
              "        const buttonEl =\n",
              "          document.querySelector('#df-b241f20f-7991-44c9-bb3a-bbd3308a720a button.colab-df-convert');\n",
              "        buttonEl.style.display =\n",
              "          google.colab.kernel.accessAllowed ? 'block' : 'none';\n",
              "\n",
              "        async function convertToInteractive(key) {\n",
              "          const element = document.querySelector('#df-b241f20f-7991-44c9-bb3a-bbd3308a720a');\n",
              "          const dataTable =\n",
              "            await google.colab.kernel.invokeFunction('convertToInteractive',\n",
              "                                                     [key], {});\n",
              "          if (!dataTable) return;\n",
              "\n",
              "          const docLinkHtml = 'Like what you see? Visit the ' +\n",
              "            '<a target=\"_blank\" href=https://colab.research.google.com/notebooks/data_table.ipynb>data table notebook</a>'\n",
              "            + ' to learn more about interactive tables.';\n",
              "          element.innerHTML = '';\n",
              "          dataTable['output_type'] = 'display_data';\n",
              "          await google.colab.output.renderOutput(dataTable, element);\n",
              "          const docLink = document.createElement('div');\n",
              "          docLink.innerHTML = docLinkHtml;\n",
              "          element.appendChild(docLink);\n",
              "        }\n",
              "      </script>\n",
              "    </div>\n",
              "  </div>\n",
              "  "
            ]
          },
          "metadata": {},
          "execution_count": 51
        }
      ]
    },
    {
      "cell_type": "markdown",
      "source": [
        "Vuelo de mayor precio"
      ],
      "metadata": {
        "id": "RX3CggO98S0F"
      }
    },
    {
      "cell_type": "code",
      "source": [
        "filt = vuelos['precio'].idxmax()\n",
        "vuelos.loc[filt]"
      ],
      "metadata": {
        "colab": {
          "base_uri": "https://localhost:8080/"
        },
        "id": "pc6m9pm-3DzS",
        "outputId": "f2a52bd4-47e7-4c45-fbad-08645f5a4cfe"
      },
      "execution_count": 64,
      "outputs": [
        {
          "output_type": "execute_result",
          "data": {
            "text/plain": [
              "origen            CORDOBA\n",
              "destino            MADRID\n",
              "compania           LATAM \n",
              "escalaida               1\n",
              "tiempoida           21.85\n",
              "escalavuelta            1\n",
              "tiempovuelta    33.333333\n",
              "precio            229.291\n",
              "Name: 22, dtype: object"
            ]
          },
          "metadata": {},
          "execution_count": 64
        }
      ]
    },
    {
      "cell_type": "markdown",
      "source": [
        "Vuelo de menor precio"
      ],
      "metadata": {
        "id": "uTwzK81q8coR"
      }
    },
    {
      "cell_type": "code",
      "source": [
        "filt = vuelos['precio'].idxmin()\n",
        "vuelos.loc[filt]"
      ],
      "metadata": {
        "colab": {
          "base_uri": "https://localhost:8080/"
        },
        "id": "BXmuzidT6aWI",
        "outputId": "ed5cb5eb-cd0e-41ff-af59-fbabae2891ca"
      },
      "execution_count": 65,
      "outputs": [
        {
          "output_type": "execute_result",
          "data": {
            "text/plain": [
              "origen                         CORDOBA\n",
              "destino                         MADRID\n",
              "compania        Aerolíneas Argentinas \n",
              "escalaida                            1\n",
              "tiempoida                         17.5\n",
              "escalavuelta                         1\n",
              "tiempovuelta                     17.75\n",
              "precio                         139.946\n",
              "Name: 0, dtype: object"
            ]
          },
          "metadata": {},
          "execution_count": 65
        }
      ]
    },
    {
      "cell_type": "markdown",
      "source": [
        "Mediana de los vuelos"
      ],
      "metadata": {
        "id": "X_D6sMrD_y99"
      }
    },
    {
      "cell_type": "code",
      "source": [
        "filt = vuelos['precio'] == vuelos['precio'].median()\n",
        "vuelos.loc[filt]"
      ],
      "metadata": {
        "colab": {
          "base_uri": "https://localhost:8080/",
          "height": 175
        },
        "id": "X4nqZ2iS9Nrg",
        "outputId": "8e271e97-4e13-4a16-8eb3-0414e0a2827a"
      },
      "execution_count": 73,
      "outputs": [
        {
          "output_type": "execute_result",
          "data": {
            "text/plain": [
              "     origen destino compania  escalaida  tiempoida  escalavuelta  \\\n",
              "13  CORDOBA  MADRID   LATAM           2   4.033333             1   \n",
              "14  CORDOBA  MADRID   LATAM           2   4.033333             2   \n",
              "15  CORDOBA  MADRID   LATAM           2   4.033333             1   \n",
              "16  CORDOBA  MADRID   LATAM           2   4.033333             2   \n",
              "\n",
              "    tiempovuelta   precio  \n",
              "13     33.333333  198.396  \n",
              "14      3.050000  198.396  \n",
              "15     33.333333  198.396  \n",
              "16      3.050000  198.396  "
            ],
            "text/html": [
              "\n",
              "  <div id=\"df-1e060045-9455-44c4-879c-5c59a1156a86\">\n",
              "    <div class=\"colab-df-container\">\n",
              "      <div>\n",
              "<style scoped>\n",
              "    .dataframe tbody tr th:only-of-type {\n",
              "        vertical-align: middle;\n",
              "    }\n",
              "\n",
              "    .dataframe tbody tr th {\n",
              "        vertical-align: top;\n",
              "    }\n",
              "\n",
              "    .dataframe thead th {\n",
              "        text-align: right;\n",
              "    }\n",
              "</style>\n",
              "<table border=\"1\" class=\"dataframe\">\n",
              "  <thead>\n",
              "    <tr style=\"text-align: right;\">\n",
              "      <th></th>\n",
              "      <th>origen</th>\n",
              "      <th>destino</th>\n",
              "      <th>compania</th>\n",
              "      <th>escalaida</th>\n",
              "      <th>tiempoida</th>\n",
              "      <th>escalavuelta</th>\n",
              "      <th>tiempovuelta</th>\n",
              "      <th>precio</th>\n",
              "    </tr>\n",
              "  </thead>\n",
              "  <tbody>\n",
              "    <tr>\n",
              "      <th>13</th>\n",
              "      <td>CORDOBA</td>\n",
              "      <td>MADRID</td>\n",
              "      <td>LATAM</td>\n",
              "      <td>2</td>\n",
              "      <td>4.033333</td>\n",
              "      <td>1</td>\n",
              "      <td>33.333333</td>\n",
              "      <td>198.396</td>\n",
              "    </tr>\n",
              "    <tr>\n",
              "      <th>14</th>\n",
              "      <td>CORDOBA</td>\n",
              "      <td>MADRID</td>\n",
              "      <td>LATAM</td>\n",
              "      <td>2</td>\n",
              "      <td>4.033333</td>\n",
              "      <td>2</td>\n",
              "      <td>3.050000</td>\n",
              "      <td>198.396</td>\n",
              "    </tr>\n",
              "    <tr>\n",
              "      <th>15</th>\n",
              "      <td>CORDOBA</td>\n",
              "      <td>MADRID</td>\n",
              "      <td>LATAM</td>\n",
              "      <td>2</td>\n",
              "      <td>4.033333</td>\n",
              "      <td>1</td>\n",
              "      <td>33.333333</td>\n",
              "      <td>198.396</td>\n",
              "    </tr>\n",
              "    <tr>\n",
              "      <th>16</th>\n",
              "      <td>CORDOBA</td>\n",
              "      <td>MADRID</td>\n",
              "      <td>LATAM</td>\n",
              "      <td>2</td>\n",
              "      <td>4.033333</td>\n",
              "      <td>2</td>\n",
              "      <td>3.050000</td>\n",
              "      <td>198.396</td>\n",
              "    </tr>\n",
              "  </tbody>\n",
              "</table>\n",
              "</div>\n",
              "      <button class=\"colab-df-convert\" onclick=\"convertToInteractive('df-1e060045-9455-44c4-879c-5c59a1156a86')\"\n",
              "              title=\"Convert this dataframe to an interactive table.\"\n",
              "              style=\"display:none;\">\n",
              "        \n",
              "  <svg xmlns=\"http://www.w3.org/2000/svg\" height=\"24px\"viewBox=\"0 0 24 24\"\n",
              "       width=\"24px\">\n",
              "    <path d=\"M0 0h24v24H0V0z\" fill=\"none\"/>\n",
              "    <path d=\"M18.56 5.44l.94 2.06.94-2.06 2.06-.94-2.06-.94-.94-2.06-.94 2.06-2.06.94zm-11 1L8.5 8.5l.94-2.06 2.06-.94-2.06-.94L8.5 2.5l-.94 2.06-2.06.94zm10 10l.94 2.06.94-2.06 2.06-.94-2.06-.94-.94-2.06-.94 2.06-2.06.94z\"/><path d=\"M17.41 7.96l-1.37-1.37c-.4-.4-.92-.59-1.43-.59-.52 0-1.04.2-1.43.59L10.3 9.45l-7.72 7.72c-.78.78-.78 2.05 0 2.83L4 21.41c.39.39.9.59 1.41.59.51 0 1.02-.2 1.41-.59l7.78-7.78 2.81-2.81c.8-.78.8-2.07 0-2.86zM5.41 20L4 18.59l7.72-7.72 1.47 1.35L5.41 20z\"/>\n",
              "  </svg>\n",
              "      </button>\n",
              "      \n",
              "  <style>\n",
              "    .colab-df-container {\n",
              "      display:flex;\n",
              "      flex-wrap:wrap;\n",
              "      gap: 12px;\n",
              "    }\n",
              "\n",
              "    .colab-df-convert {\n",
              "      background-color: #E8F0FE;\n",
              "      border: none;\n",
              "      border-radius: 50%;\n",
              "      cursor: pointer;\n",
              "      display: none;\n",
              "      fill: #1967D2;\n",
              "      height: 32px;\n",
              "      padding: 0 0 0 0;\n",
              "      width: 32px;\n",
              "    }\n",
              "\n",
              "    .colab-df-convert:hover {\n",
              "      background-color: #E2EBFA;\n",
              "      box-shadow: 0px 1px 2px rgba(60, 64, 67, 0.3), 0px 1px 3px 1px rgba(60, 64, 67, 0.15);\n",
              "      fill: #174EA6;\n",
              "    }\n",
              "\n",
              "    [theme=dark] .colab-df-convert {\n",
              "      background-color: #3B4455;\n",
              "      fill: #D2E3FC;\n",
              "    }\n",
              "\n",
              "    [theme=dark] .colab-df-convert:hover {\n",
              "      background-color: #434B5C;\n",
              "      box-shadow: 0px 1px 3px 1px rgba(0, 0, 0, 0.15);\n",
              "      filter: drop-shadow(0px 1px 2px rgba(0, 0, 0, 0.3));\n",
              "      fill: #FFFFFF;\n",
              "    }\n",
              "  </style>\n",
              "\n",
              "      <script>\n",
              "        const buttonEl =\n",
              "          document.querySelector('#df-1e060045-9455-44c4-879c-5c59a1156a86 button.colab-df-convert');\n",
              "        buttonEl.style.display =\n",
              "          google.colab.kernel.accessAllowed ? 'block' : 'none';\n",
              "\n",
              "        async function convertToInteractive(key) {\n",
              "          const element = document.querySelector('#df-1e060045-9455-44c4-879c-5c59a1156a86');\n",
              "          const dataTable =\n",
              "            await google.colab.kernel.invokeFunction('convertToInteractive',\n",
              "                                                     [key], {});\n",
              "          if (!dataTable) return;\n",
              "\n",
              "          const docLinkHtml = 'Like what you see? Visit the ' +\n",
              "            '<a target=\"_blank\" href=https://colab.research.google.com/notebooks/data_table.ipynb>data table notebook</a>'\n",
              "            + ' to learn more about interactive tables.';\n",
              "          element.innerHTML = '';\n",
              "          dataTable['output_type'] = 'display_data';\n",
              "          await google.colab.output.renderOutput(dataTable, element);\n",
              "          const docLink = document.createElement('div');\n",
              "          docLink.innerHTML = docLinkHtml;\n",
              "          element.appendChild(docLink);\n",
              "        }\n",
              "      </script>\n",
              "    </div>\n",
              "  </div>\n",
              "  "
            ]
          },
          "metadata": {},
          "execution_count": 73
        }
      ]
    },
    {
      "cell_type": "markdown",
      "source": [
        "Gráfico de Precios"
      ],
      "metadata": {
        "id": "HfAldqPZBUnF"
      }
    },
    {
      "cell_type": "code",
      "source": [
        "vuelos[['precio']].plot()"
      ],
      "metadata": {
        "colab": {
          "base_uri": "https://localhost:8080/",
          "height": 282
        },
        "id": "VUPC3YTh-Re1",
        "outputId": "00307229-6866-4311-eeff-8a3246d31276"
      },
      "execution_count": 66,
      "outputs": [
        {
          "output_type": "execute_result",
          "data": {
            "text/plain": [
              "<matplotlib.axes._subplots.AxesSubplot at 0x7f5d369d0290>"
            ]
          },
          "metadata": {},
          "execution_count": 66
        },
        {
          "output_type": "display_data",
          "data": {
            "text/plain": [
              "<Figure size 432x288 with 1 Axes>"
            ],
            "image/png": "[encoded data removed]"
          },
          "metadata": {
            "needs_background": "light"
          }
        }
      ]
    },
    {
      "cell_type": "code",
      "source": [
        "vuelos[['precio']].plot(kind='bar')"
      ],
      "metadata": {
        "colab": {
          "base_uri": "https://localhost:8080/",
          "height": 285
        },
        "id": "QACbFjWz-pKE",
        "outputId": "12a888a4-e6dc-4c4d-bbee-dd12fcca0ba5"
      },
      "execution_count": 67,
      "outputs": [
        {
          "output_type": "execute_result",
          "data": {
            "text/plain": [
              "<matplotlib.axes._subplots.AxesSubplot at 0x7f5d368f9450>"
            ]
          },
          "metadata": {},
          "execution_count": 67
        },
        {
          "output_type": "display_data",
          "data": {
            "text/plain": [
              "<Figure size 432x288 with 1 Axes>"
            ],
            "image/png": "[encoded data removed]"
          },
          "metadata": {
            "needs_background": "light"
          }
        }
      ]
    },
    {
      "cell_type": "code",
      "source": [],
      "metadata": {
        "id": "PQfUHUB727_B"
      },
      "execution_count": null,
      "outputs": []
    },
    {
      "cell_type": "markdown",
      "source": [],
      "metadata": {
        "id": "sRt_81hX2-VI"
      }
    }
  ]
}